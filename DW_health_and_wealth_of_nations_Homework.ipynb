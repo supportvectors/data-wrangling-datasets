{
  "nbformat": 4,
  "nbformat_minor": 0,
  "metadata": {
    "colab": {
      "name": " DW_health_and_wealth_of_nations_Homework.ipynb",
      "provenance": [],
      "toc_visible": true,
      "collapsed_sections": [],
      "mount_file_id": "1ksUTWNRCMHdq0z4alnmzdkSUCEwkh0Gd",
      "authorship_tag": "ABX9TyPrdONSj4xLn0zsTA5gTE8q",
      "include_colab_link": true
    },
    "kernelspec": {
      "name": "python3",
      "display_name": "Python 3"
    },
    "language_info": {
      "name": "python"
    }
  },
  "cells": [
    {
      "cell_type": "markdown",
      "metadata": {
        "id": "view-in-github",
        "colab_type": "text"
      },
      "source": [
        "<a href=\"https://colab.research.google.com/github/supportvectors/data-wrangling-datasets/blob/main/DW_health_and_wealth_of_nations_Homework.ipynb\" target=\"_parent\"><img src=\"https://colab.research.google.com/assets/colab-badge.svg\" alt=\"Open In Colab\"/></a>"
      ]
    },
    {
      "cell_type": "markdown",
      "source": [
        "# Homework: Health and Wealth of Nations Dataset\n",
        "\n",
        "In this homework exercise we will be creating a dataset to mimic the landmark gapminder \"Health and Wealth of Nations\" visualization.\n",
        "\n",
        " https://www.gapminder.org/tools/#$chart-type=bubbles&url=v1 \n",
        "\n",
        "We encourage you to visit the website and study the visualization. What are the different variables/features used to create this visualization? Enter the features corresponding to each dimension of the visualization."
      ],
      "metadata": {
        "id": "vsWTO3GhWBRq"
      }
    },
    {
      "cell_type": "code",
      "source": [
        "# What does each bubble represent? \n",
        "\n",
        "# x-axis : \n",
        "# y-axis : \n",
        "# bubble color: \n",
        "# bubble size: \n",
        "# slider : "
      ],
      "metadata": {
        "id": "XnK0b0ckY_Zd"
      },
      "execution_count": 1,
      "outputs": []
    },
    {
      "cell_type": "markdown",
      "source": [
        "To create a similar visualization we require a dataset with all these 6  features.\n",
        "1. Country, Income, Life Expectancy, Population, Continent, Year \n",
        "\n",
        " On the Gapminder website, the dataset required to make this visualization is stored in three separate files. We've downloaded them to our SupportVectors repository for access. \n",
        "\n",
        "The csv files are:\n",
        "\n",
        "1. Income: `income_per_person_gdppercapita_ppp_inflation_adjusted.csv`\n",
        "2. Population: `population_total.csv`\n",
        "3. Life expectancy: `life_expectancy_years.csv`\n",
        "\n",
        "Run the cell below to import the necessary libraries. To source the csv files from the SupportVectors GitHub repository use `sv_rep_path + 'filename.csv'`\n"
      ],
      "metadata": {
        "id": "xTHJFVV1Y8eJ"
      }
    },
    {
      "cell_type": "code",
      "execution_count": 2,
      "metadata": {
        "id": "imCISuLVHVq-"
      },
      "outputs": [],
      "source": [
        "import pandas as pd\n",
        "import numpy as np\n",
        "import altair as alt\n",
        "\n",
        "# paths to the most commonly used dataset repositories for this lab\n",
        "\n",
        "# path to SupportVectors data-wrangling-datasets repository\n",
        "sv_rep_path = 'https://raw.githubusercontent.com/supportvectors/data-wrangling-datasets/main/'"
      ]
    },
    {
      "cell_type": "markdown",
      "source": [
        "## Income dataset\n",
        "\n",
        "Load the 'income_per_person_gdppercapita_ppp_inflation_adjusted.csv' into a dataframe. (Preferably named `income_df`)"
      ],
      "metadata": {
        "id": "XEn54dzJb-U8"
      }
    },
    {
      "cell_type": "code",
      "source": [
        "# FREE DATA FROM WORLD BANK VIA GAPMINDER.ORG, CC-BY LICENSE\n",
        "\n",
        "# load the dataset\n"
      ],
      "metadata": {
        "id": "lsaDv4v3H1vQ"
      },
      "execution_count": 3,
      "outputs": []
    },
    {
      "cell_type": "markdown",
      "source": [
        "### Explore the dataset\n",
        "In this section we will explore `income_df`. Create a cell for each of the items.\n",
        "\n",
        "1. Shape\n",
        "2. Head\n",
        "3. Tail\n",
        "4. Datatype of the columns\n",
        "5. Describe  **all** the features\n",
        "\n"
      ],
      "metadata": {
        "id": "FypgZBerccHU"
      }
    },
    {
      "cell_type": "markdown",
      "source": [
        ""
      ],
      "metadata": {
        "id": "FhUdewRNc8fo"
      }
    },
    {
      "cell_type": "code",
      "source": [
        "# shape"
      ],
      "metadata": {
        "id": "HvU-Kfde_Zk3"
      },
      "execution_count": 4,
      "outputs": []
    },
    {
      "cell_type": "code",
      "source": [
        "# head"
      ],
      "metadata": {
        "id": "msFCa4N2_bNp"
      },
      "execution_count": 5,
      "outputs": []
    },
    {
      "cell_type": "code",
      "source": [
        "# tail"
      ],
      "metadata": {
        "id": "UE8ycCYy_czG"
      },
      "execution_count": 6,
      "outputs": []
    },
    {
      "cell_type": "code",
      "source": [
        "# datatpes of the columns"
      ],
      "metadata": {
        "id": "R86fFky6_eCq"
      },
      "execution_count": 7,
      "outputs": []
    },
    {
      "cell_type": "code",
      "source": [
        "# describe all the features"
      ],
      "metadata": {
        "id": "lFvSgADb_g_0"
      },
      "execution_count": 8,
      "outputs": []
    },
    {
      "cell_type": "markdown",
      "source": [
        "Answer the questions below from your understanding of the dataset."
      ],
      "metadata": {
        "id": "fBJOl38cd7T_"
      }
    },
    {
      "cell_type": "code",
      "source": [
        "# What is the number countries in the dataset?\n",
        "\n",
        "# What is the range of years for which the income is recorded?\n",
        "\n",
        "# Are all the income columns of the same datatype? if no, why?\n",
        "\n",
        "# Is this a tidy dataset?"
      ],
      "metadata": {
        "id": "KtPEo81UehuM"
      },
      "execution_count": 9,
      "outputs": []
    },
    {
      "cell_type": "markdown",
      "source": [
        "### String Manipulation\n",
        "\n",
        "For the visualization to work, we must convert income values of object type to integer. For example: `2.2k` to `2200`. We will follow these steps for this conversion.\n",
        "\n",
        "1. replace `k`(thousands), `M` (Millions), `B` (Billions) by their corresponding `scientific notation`. For example `2.2k` becomes `2.2*1e3`\n",
        "2. map the string values to the evaluated parsed string values using the function `pd.eval`. For example `2.2*1e3` is evaluated as a python expression to get `2200` (Look up the documentation for `eval` or `pd.eval`)\n",
        "\n",
        "You may want to use the dictionary `replace_dict` while using the `.replace()` method. (We've used scientific e notation, feel free to change it up). \n",
        "\n",
        "Refer to the `String Manipulation` notebook if you get stuck.\n",
        "\n"
      ],
      "metadata": {
        "id": "xoWsjNCwgn19"
      }
    },
    {
      "cell_type": "markdown",
      "source": [
        "#### Replace"
      ],
      "metadata": {
        "id": "LCKUl2Zh0kdj"
      }
    },
    {
      "cell_type": "code",
      "source": [
        "\n",
        "\n",
        "replace_dict = {'[kK]': '*1e3',\n",
        "             '[mM]': '*1e6',\n",
        "             '[bB]': '*1e9', \n",
        "            }\n",
        "# apply the replace method here\n",
        "\n",
        "# make sure not to make replacements in the `country` column\n",
        "\n",
        "\n",
        "# view the head of dataframe\n"
      ],
      "metadata": {
        "id": "h-dt6leIIolk"
      },
      "execution_count": 10,
      "outputs": []
    },
    {
      "cell_type": "markdown",
      "source": [
        "#### Evaluate using pd.eval()\n",
        "\n",
        "Iterate through the income columns in the dataframe and map values of each column to the function pd.eval\n",
        "\n",
        "`.pd.eval` documentation: https://pandas.pydata.org/docs/reference/api/pandas.eval.html\n",
        "\n",
        "`.map` documentation: https://pandas.pydata.org/docs/reference/api/pandas.Series.map.html"
      ],
      "metadata": {
        "id": "37vtz2E91tZb"
      }
    },
    {
      "cell_type": "code",
      "source": [
        "# iterate through each column\n",
        "\n",
        "  # map values of each column to the function pd.eval\n"
      ],
      "metadata": {
        "id": "wDgMhyaAIsyA"
      },
      "execution_count": 11,
      "outputs": []
    },
    {
      "cell_type": "markdown",
      "source": [
        "### Convert Datatypes\n",
        "\n",
        "Check the datatypes of all columns. If they are different, convert to integer datatype"
      ],
      "metadata": {
        "id": "AnI5S4p0kzzG"
      }
    },
    {
      "cell_type": "code",
      "source": [
        "# convert object datatypes to integer\n"
      ],
      "metadata": {
        "id": "9mpdjJydMKmI"
      },
      "execution_count": 12,
      "outputs": []
    },
    {
      "cell_type": "markdown",
      "source": [
        "### Tidying up\n",
        "Melt the dataframe to contain three columns: {`country`, `year`, `income`}"
      ],
      "metadata": {
        "id": "ff3vnxC8mgyN"
      }
    },
    {
      "cell_type": "code",
      "source": [
        "# melt income_df \n",
        "\n"
      ],
      "metadata": {
        "id": "C2qKOJYQMVSC"
      },
      "execution_count": 13,
      "outputs": []
    },
    {
      "cell_type": "markdown",
      "source": [
        "### Missing values\n",
        "Are there any missing values in the income column? If there are, Let's drop those rows. "
      ],
      "metadata": {
        "id": "TKn3hppnm8eD"
      }
    },
    {
      "cell_type": "code",
      "source": [
        "# Drop rows with missing values in income column\n",
        "\n"
      ],
      "metadata": {
        "id": "JoZCwGDIMfzW"
      },
      "execution_count": 14,
      "outputs": []
    },
    {
      "cell_type": "markdown",
      "source": [
        "## Population dataset\n",
        "\n",
        "Let's follow the same procedures as the income dataset. Load the `'population_total.csv'` file from the SupportVectors GitHub repository as a dataframe (preferably `pop_df`)."
      ],
      "metadata": {
        "id": "7pkJK99vnjq-"
      }
    },
    {
      "cell_type": "code",
      "source": [
        "# FREE DATA FROM WORLD BANK VIA GAPMINDER.ORG, CC-BY LICENSE\n",
        "\n",
        "# load the dataset\n"
      ],
      "metadata": {
        "id": "js6wmKdxMpKf"
      },
      "execution_count": 15,
      "outputs": []
    },
    {
      "cell_type": "markdown",
      "source": [
        "### Explore the dataset\n",
        "In this section we will explore `income_df`. Create a cell for each of the items.\n",
        "\n",
        "1. Shape\n",
        "2. Head\n",
        "3. Tail\n",
        "4. Datatype of the columns\n",
        "5. Describe  **all** the features"
      ],
      "metadata": {
        "id": "yLo7G_pku5Uo"
      }
    },
    {
      "cell_type": "code",
      "source": [
        "# shape"
      ],
      "metadata": {
        "id": "s_OcczqHAjWZ"
      },
      "execution_count": 16,
      "outputs": []
    },
    {
      "cell_type": "code",
      "source": [
        "# head"
      ],
      "metadata": {
        "id": "3JImPgVDAkaN"
      },
      "execution_count": 17,
      "outputs": []
    },
    {
      "cell_type": "code",
      "source": [
        "# tail"
      ],
      "metadata": {
        "id": "L8iflwy2AmMP"
      },
      "execution_count": 18,
      "outputs": []
    },
    {
      "cell_type": "code",
      "source": [
        "# datatype of the columns"
      ],
      "metadata": {
        "id": "I0SsRqUEAnjH"
      },
      "execution_count": 19,
      "outputs": []
    },
    {
      "cell_type": "code",
      "source": [
        "# describe all the features"
      ],
      "metadata": {
        "id": "371742XWAoPr"
      },
      "execution_count": 20,
      "outputs": []
    },
    {
      "cell_type": "markdown",
      "source": [
        "Answer the questions below from your understanding of the dataset.\n",
        "\n"
      ],
      "metadata": {
        "id": "Ir1VqiB_vTNA"
      }
    },
    {
      "cell_type": "code",
      "source": [
        "# What is the number countries in the dataset?\n",
        "\n",
        "# What is the range of years for which the population is recorded/projected?\n",
        "\n",
        "# Are all the population columns of the same datatype? are they all numeric?\n",
        "\n",
        "# Is this a tidy dataset?"
      ],
      "metadata": {
        "id": "qM5i3F7FvhKp"
      },
      "execution_count": 21,
      "outputs": []
    },
    {
      "cell_type": "markdown",
      "source": [
        "We observe that the years for which the population is recorded/projected does not match our income dataset. Select the largest subset of the `pop_df` that overlaps with `income_df`"
      ],
      "metadata": {
        "id": "EWRcvjQXv3VN"
      }
    },
    {
      "cell_type": "code",
      "source": [
        "# subset of pop_df\n"
      ],
      "metadata": {
        "id": "jWuPytgcNyj-"
      },
      "execution_count": 22,
      "outputs": []
    },
    {
      "cell_type": "markdown",
      "source": [
        "### String Manipulation\n",
        "\n",
        "We will follow the same steps we did for `income_df` to convert all values to numeric datatype. You may want to use th `repl_dict` for the replace method. "
      ],
      "metadata": {
        "id": "U8Lb7QMQzfmE"
      }
    },
    {
      "cell_type": "code",
      "source": [
        "repl_dict = {'[kK]': '*1e3',\n",
        "             '[mM]': '*1e6',\n",
        "             '[bB]': '*1e9', \n",
        "            }\n",
        "# apply the replace method here\n",
        "\n",
        "# make sure not to make replacements in the `country` column\n",
        "\n",
        "\n",
        "\n",
        "# iterate through each column\n",
        "\n",
        "  # map values of each column to the function pd.eval\n",
        "\n",
        "\n",
        "# view the head of the dataframe\n"
      ],
      "metadata": {
        "id": "0srK7bKqN1Xy"
      },
      "execution_count": 23,
      "outputs": []
    },
    {
      "cell_type": "markdown",
      "source": [
        "### Tidying up\n",
        "Melt the dataframe to contain three columns: {`country`, `year`, `pop`}"
      ],
      "metadata": {
        "id": "druoYL-n1Hbm"
      }
    },
    {
      "cell_type": "code",
      "source": [
        "# melt pop_df\n"
      ],
      "metadata": {
        "id": "LBXkQ3NROWpN"
      },
      "execution_count": 24,
      "outputs": []
    },
    {
      "cell_type": "markdown",
      "source": [
        "### Missing values\n",
        "Are there any missing values in the pop column? If there are, Let's drop those rows. "
      ],
      "metadata": {
        "id": "Gj7EDwIZ1RBo"
      }
    },
    {
      "cell_type": "code",
      "source": [
        "# drop rows with missing values in the pop column \n"
      ],
      "metadata": {
        "id": "L8_xiNPiOgDu"
      },
      "execution_count": 25,
      "outputs": []
    },
    {
      "cell_type": "markdown",
      "source": [
        "## Life Expectancy\n",
        "\n",
        "Let's follow the same procedures as the income dataset. Load the `'life_expectancy_years.csv'` file from the SupportVectors GitHub repository as a dataframe (preferably `lifExp_df`)."
      ],
      "metadata": {
        "id": "rLuPuNzTHW1M"
      }
    },
    {
      "cell_type": "code",
      "source": [
        "# FREE DATA FROM WORLD BANK VIA GAPMINDER.ORG, CC-BY LICENSE\n",
        "\n",
        "# load the dataset\n"
      ],
      "metadata": {
        "colab": {
          "base_uri": "https://localhost:8080/",
          "height": 317
        },
        "id": "yq5Sp7POO0Y5",
        "outputId": "22da361a-f669-45cc-ceaa-5d0e3f223e72"
      },
      "execution_count": 26,
      "outputs": [
        {
          "output_type": "execute_result",
          "data": {
            "text/html": [
              "\n",
              "  <div id=\"df-2dc2e545-5ec4-43b3-8243-938087ec82ef\">\n",
              "    <div class=\"colab-df-container\">\n",
              "      <div>\n",
              "<style scoped>\n",
              "    .dataframe tbody tr th:only-of-type {\n",
              "        vertical-align: middle;\n",
              "    }\n",
              "\n",
              "    .dataframe tbody tr th {\n",
              "        vertical-align: top;\n",
              "    }\n",
              "\n",
              "    .dataframe thead th {\n",
              "        text-align: right;\n",
              "    }\n",
              "</style>\n",
              "<table border=\"1\" class=\"dataframe\">\n",
              "  <thead>\n",
              "    <tr style=\"text-align: right;\">\n",
              "      <th></th>\n",
              "      <th>country</th>\n",
              "      <th>1800</th>\n",
              "      <th>1801</th>\n",
              "      <th>1802</th>\n",
              "      <th>1803</th>\n",
              "      <th>1804</th>\n",
              "      <th>1805</th>\n",
              "      <th>1806</th>\n",
              "      <th>1807</th>\n",
              "      <th>1808</th>\n",
              "      <th>1809</th>\n",
              "      <th>1810</th>\n",
              "      <th>1811</th>\n",
              "      <th>1812</th>\n",
              "      <th>1813</th>\n",
              "      <th>1814</th>\n",
              "      <th>1815</th>\n",
              "      <th>1816</th>\n",
              "      <th>1817</th>\n",
              "      <th>1818</th>\n",
              "      <th>1819</th>\n",
              "      <th>1820</th>\n",
              "      <th>1821</th>\n",
              "      <th>1822</th>\n",
              "      <th>1823</th>\n",
              "      <th>1824</th>\n",
              "      <th>1825</th>\n",
              "      <th>1826</th>\n",
              "      <th>1827</th>\n",
              "      <th>1828</th>\n",
              "      <th>1829</th>\n",
              "      <th>1830</th>\n",
              "      <th>1831</th>\n",
              "      <th>1832</th>\n",
              "      <th>1833</th>\n",
              "      <th>1834</th>\n",
              "      <th>1835</th>\n",
              "      <th>1836</th>\n",
              "      <th>1837</th>\n",
              "      <th>1838</th>\n",
              "      <th>...</th>\n",
              "      <th>2061</th>\n",
              "      <th>2062</th>\n",
              "      <th>2063</th>\n",
              "      <th>2064</th>\n",
              "      <th>2065</th>\n",
              "      <th>2066</th>\n",
              "      <th>2067</th>\n",
              "      <th>2068</th>\n",
              "      <th>2069</th>\n",
              "      <th>2070</th>\n",
              "      <th>2071</th>\n",
              "      <th>2072</th>\n",
              "      <th>2073</th>\n",
              "      <th>2074</th>\n",
              "      <th>2075</th>\n",
              "      <th>2076</th>\n",
              "      <th>2077</th>\n",
              "      <th>2078</th>\n",
              "      <th>2079</th>\n",
              "      <th>2080</th>\n",
              "      <th>2081</th>\n",
              "      <th>2082</th>\n",
              "      <th>2083</th>\n",
              "      <th>2084</th>\n",
              "      <th>2085</th>\n",
              "      <th>2086</th>\n",
              "      <th>2087</th>\n",
              "      <th>2088</th>\n",
              "      <th>2089</th>\n",
              "      <th>2090</th>\n",
              "      <th>2091</th>\n",
              "      <th>2092</th>\n",
              "      <th>2093</th>\n",
              "      <th>2094</th>\n",
              "      <th>2095</th>\n",
              "      <th>2096</th>\n",
              "      <th>2097</th>\n",
              "      <th>2098</th>\n",
              "      <th>2099</th>\n",
              "      <th>2100</th>\n",
              "    </tr>\n",
              "  </thead>\n",
              "  <tbody>\n",
              "    <tr>\n",
              "      <th>0</th>\n",
              "      <td>Afghanistan</td>\n",
              "      <td>28.2</td>\n",
              "      <td>28.2</td>\n",
              "      <td>28.2</td>\n",
              "      <td>28.2</td>\n",
              "      <td>28.2</td>\n",
              "      <td>28.2</td>\n",
              "      <td>28.1</td>\n",
              "      <td>28.1</td>\n",
              "      <td>28.1</td>\n",
              "      <td>28.1</td>\n",
              "      <td>28.1</td>\n",
              "      <td>28.1</td>\n",
              "      <td>28.1</td>\n",
              "      <td>28.1</td>\n",
              "      <td>28.1</td>\n",
              "      <td>28.1</td>\n",
              "      <td>28.1</td>\n",
              "      <td>28.0</td>\n",
              "      <td>28.0</td>\n",
              "      <td>28.0</td>\n",
              "      <td>28.0</td>\n",
              "      <td>28.0</td>\n",
              "      <td>28.0</td>\n",
              "      <td>28.0</td>\n",
              "      <td>28.0</td>\n",
              "      <td>27.9</td>\n",
              "      <td>27.9</td>\n",
              "      <td>27.9</td>\n",
              "      <td>27.9</td>\n",
              "      <td>27.9</td>\n",
              "      <td>27.9</td>\n",
              "      <td>27.9</td>\n",
              "      <td>27.9</td>\n",
              "      <td>27.9</td>\n",
              "      <td>27.9</td>\n",
              "      <td>27.9</td>\n",
              "      <td>27.8</td>\n",
              "      <td>27.8</td>\n",
              "      <td>27.8</td>\n",
              "      <td>...</td>\n",
              "      <td>71.5</td>\n",
              "      <td>71.7</td>\n",
              "      <td>71.8</td>\n",
              "      <td>72.0</td>\n",
              "      <td>72.1</td>\n",
              "      <td>72.2</td>\n",
              "      <td>72.3</td>\n",
              "      <td>72.5</td>\n",
              "      <td>72.6</td>\n",
              "      <td>72.7</td>\n",
              "      <td>72.9</td>\n",
              "      <td>73.0</td>\n",
              "      <td>73.1</td>\n",
              "      <td>73.3</td>\n",
              "      <td>73.4</td>\n",
              "      <td>73.5</td>\n",
              "      <td>73.7</td>\n",
              "      <td>73.8</td>\n",
              "      <td>74.0</td>\n",
              "      <td>74.1</td>\n",
              "      <td>74.2</td>\n",
              "      <td>74.3</td>\n",
              "      <td>74.5</td>\n",
              "      <td>74.6</td>\n",
              "      <td>74.8</td>\n",
              "      <td>74.9</td>\n",
              "      <td>75.0</td>\n",
              "      <td>75.2</td>\n",
              "      <td>75.3</td>\n",
              "      <td>75.4</td>\n",
              "      <td>75.5</td>\n",
              "      <td>75.7</td>\n",
              "      <td>75.8</td>\n",
              "      <td>76.0</td>\n",
              "      <td>76.1</td>\n",
              "      <td>76.2</td>\n",
              "      <td>76.4</td>\n",
              "      <td>76.5</td>\n",
              "      <td>76.6</td>\n",
              "      <td>76.8</td>\n",
              "    </tr>\n",
              "    <tr>\n",
              "      <th>1</th>\n",
              "      <td>Angola</td>\n",
              "      <td>27.0</td>\n",
              "      <td>27.0</td>\n",
              "      <td>27.0</td>\n",
              "      <td>27.0</td>\n",
              "      <td>27.0</td>\n",
              "      <td>27.0</td>\n",
              "      <td>27.0</td>\n",
              "      <td>27.0</td>\n",
              "      <td>27.0</td>\n",
              "      <td>27.0</td>\n",
              "      <td>27.0</td>\n",
              "      <td>27.0</td>\n",
              "      <td>27.0</td>\n",
              "      <td>27.0</td>\n",
              "      <td>27.0</td>\n",
              "      <td>27.0</td>\n",
              "      <td>27.0</td>\n",
              "      <td>27.0</td>\n",
              "      <td>27.0</td>\n",
              "      <td>27.0</td>\n",
              "      <td>27.0</td>\n",
              "      <td>27.0</td>\n",
              "      <td>27.0</td>\n",
              "      <td>27.0</td>\n",
              "      <td>27.0</td>\n",
              "      <td>27.0</td>\n",
              "      <td>27.0</td>\n",
              "      <td>27.0</td>\n",
              "      <td>27.0</td>\n",
              "      <td>27.0</td>\n",
              "      <td>27.0</td>\n",
              "      <td>27.0</td>\n",
              "      <td>27.0</td>\n",
              "      <td>27.0</td>\n",
              "      <td>27.0</td>\n",
              "      <td>27.0</td>\n",
              "      <td>27.0</td>\n",
              "      <td>27.0</td>\n",
              "      <td>27.0</td>\n",
              "      <td>...</td>\n",
              "      <td>74.8</td>\n",
              "      <td>75.0</td>\n",
              "      <td>75.1</td>\n",
              "      <td>75.3</td>\n",
              "      <td>75.4</td>\n",
              "      <td>75.5</td>\n",
              "      <td>75.7</td>\n",
              "      <td>75.8</td>\n",
              "      <td>76.0</td>\n",
              "      <td>76.1</td>\n",
              "      <td>76.2</td>\n",
              "      <td>76.4</td>\n",
              "      <td>76.5</td>\n",
              "      <td>76.6</td>\n",
              "      <td>76.8</td>\n",
              "      <td>76.9</td>\n",
              "      <td>77.0</td>\n",
              "      <td>77.2</td>\n",
              "      <td>77.3</td>\n",
              "      <td>77.4</td>\n",
              "      <td>77.5</td>\n",
              "      <td>77.7</td>\n",
              "      <td>77.8</td>\n",
              "      <td>77.9</td>\n",
              "      <td>78.0</td>\n",
              "      <td>78.2</td>\n",
              "      <td>78.3</td>\n",
              "      <td>78.4</td>\n",
              "      <td>78.6</td>\n",
              "      <td>78.7</td>\n",
              "      <td>78.8</td>\n",
              "      <td>79.0</td>\n",
              "      <td>79.1</td>\n",
              "      <td>79.2</td>\n",
              "      <td>79.3</td>\n",
              "      <td>79.5</td>\n",
              "      <td>79.6</td>\n",
              "      <td>79.7</td>\n",
              "      <td>79.9</td>\n",
              "      <td>80.0</td>\n",
              "    </tr>\n",
              "    <tr>\n",
              "      <th>2</th>\n",
              "      <td>Albania</td>\n",
              "      <td>35.4</td>\n",
              "      <td>35.4</td>\n",
              "      <td>35.4</td>\n",
              "      <td>35.4</td>\n",
              "      <td>35.4</td>\n",
              "      <td>35.4</td>\n",
              "      <td>35.4</td>\n",
              "      <td>35.4</td>\n",
              "      <td>35.4</td>\n",
              "      <td>35.4</td>\n",
              "      <td>35.4</td>\n",
              "      <td>35.4</td>\n",
              "      <td>35.4</td>\n",
              "      <td>35.4</td>\n",
              "      <td>35.4</td>\n",
              "      <td>35.4</td>\n",
              "      <td>35.4</td>\n",
              "      <td>35.4</td>\n",
              "      <td>35.4</td>\n",
              "      <td>35.4</td>\n",
              "      <td>35.4</td>\n",
              "      <td>35.4</td>\n",
              "      <td>35.4</td>\n",
              "      <td>35.4</td>\n",
              "      <td>35.4</td>\n",
              "      <td>35.4</td>\n",
              "      <td>35.4</td>\n",
              "      <td>35.4</td>\n",
              "      <td>35.4</td>\n",
              "      <td>35.4</td>\n",
              "      <td>35.4</td>\n",
              "      <td>35.4</td>\n",
              "      <td>35.4</td>\n",
              "      <td>35.4</td>\n",
              "      <td>35.4</td>\n",
              "      <td>35.4</td>\n",
              "      <td>35.4</td>\n",
              "      <td>35.4</td>\n",
              "      <td>35.4</td>\n",
              "      <td>...</td>\n",
              "      <td>84.3</td>\n",
              "      <td>84.4</td>\n",
              "      <td>84.5</td>\n",
              "      <td>84.6</td>\n",
              "      <td>84.7</td>\n",
              "      <td>84.8</td>\n",
              "      <td>84.9</td>\n",
              "      <td>85.0</td>\n",
              "      <td>85.2</td>\n",
              "      <td>85.3</td>\n",
              "      <td>85.4</td>\n",
              "      <td>85.5</td>\n",
              "      <td>85.6</td>\n",
              "      <td>85.7</td>\n",
              "      <td>85.8</td>\n",
              "      <td>85.9</td>\n",
              "      <td>86.0</td>\n",
              "      <td>86.1</td>\n",
              "      <td>86.2</td>\n",
              "      <td>86.3</td>\n",
              "      <td>86.4</td>\n",
              "      <td>86.5</td>\n",
              "      <td>86.6</td>\n",
              "      <td>86.7</td>\n",
              "      <td>86.8</td>\n",
              "      <td>86.9</td>\n",
              "      <td>87.0</td>\n",
              "      <td>87.1</td>\n",
              "      <td>87.2</td>\n",
              "      <td>87.3</td>\n",
              "      <td>87.4</td>\n",
              "      <td>87.5</td>\n",
              "      <td>87.6</td>\n",
              "      <td>87.7</td>\n",
              "      <td>87.8</td>\n",
              "      <td>87.9</td>\n",
              "      <td>88.0</td>\n",
              "      <td>88.2</td>\n",
              "      <td>88.3</td>\n",
              "      <td>88.4</td>\n",
              "    </tr>\n",
              "    <tr>\n",
              "      <th>3</th>\n",
              "      <td>Andorra</td>\n",
              "      <td>NaN</td>\n",
              "      <td>NaN</td>\n",
              "      <td>NaN</td>\n",
              "      <td>NaN</td>\n",
              "      <td>NaN</td>\n",
              "      <td>NaN</td>\n",
              "      <td>NaN</td>\n",
              "      <td>NaN</td>\n",
              "      <td>NaN</td>\n",
              "      <td>NaN</td>\n",
              "      <td>NaN</td>\n",
              "      <td>NaN</td>\n",
              "      <td>NaN</td>\n",
              "      <td>NaN</td>\n",
              "      <td>NaN</td>\n",
              "      <td>NaN</td>\n",
              "      <td>NaN</td>\n",
              "      <td>NaN</td>\n",
              "      <td>NaN</td>\n",
              "      <td>NaN</td>\n",
              "      <td>NaN</td>\n",
              "      <td>NaN</td>\n",
              "      <td>NaN</td>\n",
              "      <td>NaN</td>\n",
              "      <td>NaN</td>\n",
              "      <td>NaN</td>\n",
              "      <td>NaN</td>\n",
              "      <td>NaN</td>\n",
              "      <td>NaN</td>\n",
              "      <td>NaN</td>\n",
              "      <td>NaN</td>\n",
              "      <td>NaN</td>\n",
              "      <td>NaN</td>\n",
              "      <td>NaN</td>\n",
              "      <td>NaN</td>\n",
              "      <td>NaN</td>\n",
              "      <td>NaN</td>\n",
              "      <td>NaN</td>\n",
              "      <td>NaN</td>\n",
              "      <td>...</td>\n",
              "      <td>NaN</td>\n",
              "      <td>NaN</td>\n",
              "      <td>NaN</td>\n",
              "      <td>NaN</td>\n",
              "      <td>NaN</td>\n",
              "      <td>NaN</td>\n",
              "      <td>NaN</td>\n",
              "      <td>NaN</td>\n",
              "      <td>NaN</td>\n",
              "      <td>NaN</td>\n",
              "      <td>NaN</td>\n",
              "      <td>NaN</td>\n",
              "      <td>NaN</td>\n",
              "      <td>NaN</td>\n",
              "      <td>NaN</td>\n",
              "      <td>NaN</td>\n",
              "      <td>NaN</td>\n",
              "      <td>NaN</td>\n",
              "      <td>NaN</td>\n",
              "      <td>NaN</td>\n",
              "      <td>NaN</td>\n",
              "      <td>NaN</td>\n",
              "      <td>NaN</td>\n",
              "      <td>NaN</td>\n",
              "      <td>NaN</td>\n",
              "      <td>NaN</td>\n",
              "      <td>NaN</td>\n",
              "      <td>NaN</td>\n",
              "      <td>NaN</td>\n",
              "      <td>NaN</td>\n",
              "      <td>NaN</td>\n",
              "      <td>NaN</td>\n",
              "      <td>NaN</td>\n",
              "      <td>NaN</td>\n",
              "      <td>NaN</td>\n",
              "      <td>NaN</td>\n",
              "      <td>NaN</td>\n",
              "      <td>NaN</td>\n",
              "      <td>NaN</td>\n",
              "      <td>NaN</td>\n",
              "    </tr>\n",
              "    <tr>\n",
              "      <th>4</th>\n",
              "      <td>United Arab Emirates</td>\n",
              "      <td>30.7</td>\n",
              "      <td>30.7</td>\n",
              "      <td>30.7</td>\n",
              "      <td>30.7</td>\n",
              "      <td>30.7</td>\n",
              "      <td>30.7</td>\n",
              "      <td>30.7</td>\n",
              "      <td>30.7</td>\n",
              "      <td>30.7</td>\n",
              "      <td>30.7</td>\n",
              "      <td>30.7</td>\n",
              "      <td>30.7</td>\n",
              "      <td>30.7</td>\n",
              "      <td>30.7</td>\n",
              "      <td>30.7</td>\n",
              "      <td>30.7</td>\n",
              "      <td>30.7</td>\n",
              "      <td>30.7</td>\n",
              "      <td>30.7</td>\n",
              "      <td>30.7</td>\n",
              "      <td>30.7</td>\n",
              "      <td>30.7</td>\n",
              "      <td>30.7</td>\n",
              "      <td>30.7</td>\n",
              "      <td>30.7</td>\n",
              "      <td>30.7</td>\n",
              "      <td>30.7</td>\n",
              "      <td>30.7</td>\n",
              "      <td>30.7</td>\n",
              "      <td>30.7</td>\n",
              "      <td>30.7</td>\n",
              "      <td>30.7</td>\n",
              "      <td>30.7</td>\n",
              "      <td>30.7</td>\n",
              "      <td>30.7</td>\n",
              "      <td>30.7</td>\n",
              "      <td>30.7</td>\n",
              "      <td>30.7</td>\n",
              "      <td>30.7</td>\n",
              "      <td>...</td>\n",
              "      <td>79.3</td>\n",
              "      <td>79.4</td>\n",
              "      <td>79.5</td>\n",
              "      <td>79.7</td>\n",
              "      <td>79.8</td>\n",
              "      <td>79.9</td>\n",
              "      <td>80.0</td>\n",
              "      <td>80.1</td>\n",
              "      <td>80.2</td>\n",
              "      <td>80.3</td>\n",
              "      <td>80.4</td>\n",
              "      <td>80.5</td>\n",
              "      <td>80.7</td>\n",
              "      <td>80.8</td>\n",
              "      <td>80.9</td>\n",
              "      <td>81.0</td>\n",
              "      <td>81.0</td>\n",
              "      <td>81.2</td>\n",
              "      <td>81.3</td>\n",
              "      <td>81.3</td>\n",
              "      <td>81.4</td>\n",
              "      <td>81.5</td>\n",
              "      <td>81.6</td>\n",
              "      <td>81.7</td>\n",
              "      <td>81.8</td>\n",
              "      <td>81.9</td>\n",
              "      <td>82.0</td>\n",
              "      <td>82.1</td>\n",
              "      <td>82.2</td>\n",
              "      <td>82.3</td>\n",
              "      <td>82.4</td>\n",
              "      <td>82.5</td>\n",
              "      <td>82.6</td>\n",
              "      <td>82.7</td>\n",
              "      <td>82.8</td>\n",
              "      <td>82.9</td>\n",
              "      <td>83.0</td>\n",
              "      <td>83.1</td>\n",
              "      <td>83.2</td>\n",
              "      <td>83.3</td>\n",
              "    </tr>\n",
              "  </tbody>\n",
              "</table>\n",
              "<p>5 rows × 302 columns</p>\n",
              "</div>\n",
              "      <button class=\"colab-df-convert\" onclick=\"convertToInteractive('df-2dc2e545-5ec4-43b3-8243-938087ec82ef')\"\n",
              "              title=\"Convert this dataframe to an interactive table.\"\n",
              "              style=\"display:none;\">\n",
              "        \n",
              "  <svg xmlns=\"http://www.w3.org/2000/svg\" height=\"24px\"viewBox=\"0 0 24 24\"\n",
              "       width=\"24px\">\n",
              "    <path d=\"M0 0h24v24H0V0z\" fill=\"none\"/>\n",
              "    <path d=\"M18.56 5.44l.94 2.06.94-2.06 2.06-.94-2.06-.94-.94-2.06-.94 2.06-2.06.94zm-11 1L8.5 8.5l.94-2.06 2.06-.94-2.06-.94L8.5 2.5l-.94 2.06-2.06.94zm10 10l.94 2.06.94-2.06 2.06-.94-2.06-.94-.94-2.06-.94 2.06-2.06.94z\"/><path d=\"M17.41 7.96l-1.37-1.37c-.4-.4-.92-.59-1.43-.59-.52 0-1.04.2-1.43.59L10.3 9.45l-7.72 7.72c-.78.78-.78 2.05 0 2.83L4 21.41c.39.39.9.59 1.41.59.51 0 1.02-.2 1.41-.59l7.78-7.78 2.81-2.81c.8-.78.8-2.07 0-2.86zM5.41 20L4 18.59l7.72-7.72 1.47 1.35L5.41 20z\"/>\n",
              "  </svg>\n",
              "      </button>\n",
              "      \n",
              "  <style>\n",
              "    .colab-df-container {\n",
              "      display:flex;\n",
              "      flex-wrap:wrap;\n",
              "      gap: 12px;\n",
              "    }\n",
              "\n",
              "    .colab-df-convert {\n",
              "      background-color: #E8F0FE;\n",
              "      border: none;\n",
              "      border-radius: 50%;\n",
              "      cursor: pointer;\n",
              "      display: none;\n",
              "      fill: #1967D2;\n",
              "      height: 32px;\n",
              "      padding: 0 0 0 0;\n",
              "      width: 32px;\n",
              "    }\n",
              "\n",
              "    .colab-df-convert:hover {\n",
              "      background-color: #E2EBFA;\n",
              "      box-shadow: 0px 1px 2px rgba(60, 64, 67, 0.3), 0px 1px 3px 1px rgba(60, 64, 67, 0.15);\n",
              "      fill: #174EA6;\n",
              "    }\n",
              "\n",
              "    [theme=dark] .colab-df-convert {\n",
              "      background-color: #3B4455;\n",
              "      fill: #D2E3FC;\n",
              "    }\n",
              "\n",
              "    [theme=dark] .colab-df-convert:hover {\n",
              "      background-color: #434B5C;\n",
              "      box-shadow: 0px 1px 3px 1px rgba(0, 0, 0, 0.15);\n",
              "      filter: drop-shadow(0px 1px 2px rgba(0, 0, 0, 0.3));\n",
              "      fill: #FFFFFF;\n",
              "    }\n",
              "  </style>\n",
              "\n",
              "      <script>\n",
              "        const buttonEl =\n",
              "          document.querySelector('#df-2dc2e545-5ec4-43b3-8243-938087ec82ef button.colab-df-convert');\n",
              "        buttonEl.style.display =\n",
              "          google.colab.kernel.accessAllowed ? 'block' : 'none';\n",
              "\n",
              "        async function convertToInteractive(key) {\n",
              "          const element = document.querySelector('#df-2dc2e545-5ec4-43b3-8243-938087ec82ef');\n",
              "          const dataTable =\n",
              "            await google.colab.kernel.invokeFunction('convertToInteractive',\n",
              "                                                     [key], {});\n",
              "          if (!dataTable) return;\n",
              "\n",
              "          const docLinkHtml = 'Like what you see? Visit the ' +\n",
              "            '<a target=\"_blank\" href=https://colab.research.google.com/notebooks/data_table.ipynb>data table notebook</a>'\n",
              "            + ' to learn more about interactive tables.';\n",
              "          element.innerHTML = '';\n",
              "          dataTable['output_type'] = 'display_data';\n",
              "          await google.colab.output.renderOutput(dataTable, element);\n",
              "          const docLink = document.createElement('div');\n",
              "          docLink.innerHTML = docLinkHtml;\n",
              "          element.appendChild(docLink);\n",
              "        }\n",
              "      </script>\n",
              "    </div>\n",
              "  </div>\n",
              "  "
            ],
            "text/plain": [
              "                country  1800  1801  1802  1803  ...  2096  2097  2098  2099  2100\n",
              "0           Afghanistan  28.2  28.2  28.2  28.2  ...  76.2  76.4  76.5  76.6  76.8\n",
              "1                Angola  27.0  27.0  27.0  27.0  ...  79.5  79.6  79.7  79.9  80.0\n",
              "2               Albania  35.4  35.4  35.4  35.4  ...  87.9  88.0  88.2  88.3  88.4\n",
              "3               Andorra   NaN   NaN   NaN   NaN  ...   NaN   NaN   NaN   NaN   NaN\n",
              "4  United Arab Emirates  30.7  30.7  30.7  30.7  ...  82.9  83.0  83.1  83.2  83.3\n",
              "\n",
              "[5 rows x 302 columns]"
            ]
          },
          "metadata": {},
          "execution_count": 26
        }
      ]
    },
    {
      "cell_type": "markdown",
      "source": [
        "### Explore the dataset\n",
        "In this section we will explore `lifExp_df`. Create a cell for each of the items.\n",
        "\n",
        "1. Shape\n",
        "2. Head\n",
        "3. Tail\n",
        "4. Datatype of the columns\n",
        "5. Describe  **all** the features"
      ],
      "metadata": {
        "id": "JuDeKME02E5Y"
      }
    },
    {
      "cell_type": "code",
      "source": [
        "# shape"
      ],
      "metadata": {
        "id": "Ge7Buwz-BTDX"
      },
      "execution_count": 27,
      "outputs": []
    },
    {
      "cell_type": "code",
      "source": [
        "# head"
      ],
      "metadata": {
        "id": "d5bYn98lBTs3"
      },
      "execution_count": 28,
      "outputs": []
    },
    {
      "cell_type": "code",
      "source": [
        "# tail"
      ],
      "metadata": {
        "id": "zwF_5VXuBT4I"
      },
      "execution_count": 29,
      "outputs": []
    },
    {
      "cell_type": "code",
      "source": [
        "# datatype of the columns"
      ],
      "metadata": {
        "id": "Krf6KkwCBUBM"
      },
      "execution_count": 30,
      "outputs": []
    },
    {
      "cell_type": "code",
      "source": [
        "# describe all the features"
      ],
      "metadata": {
        "id": "qJ9jf2sqBULM"
      },
      "execution_count": 31,
      "outputs": []
    },
    {
      "cell_type": "markdown",
      "source": [
        "We observe that the years for which the life expectancy is recorded/projected does not match our income dataset. Select the largest subset of the `lifExp_df` that overlaps with `income_df` and `pop_df`"
      ],
      "metadata": {
        "id": "DYgAFx--2LqZ"
      }
    },
    {
      "cell_type": "code",
      "source": [
        "# subset of pop_df"
      ],
      "metadata": {
        "id": "rTpD23lnQUJe"
      },
      "execution_count": 32,
      "outputs": []
    },
    {
      "cell_type": "markdown",
      "source": [
        "### Tidying up\n",
        "Melt the dataframe to contain three columns: {`country`, `year`, `lifExp`}"
      ],
      "metadata": {
        "id": "8Nm506CtBjYk"
      }
    },
    {
      "cell_type": "code",
      "source": [
        "# melt lifExp_df\n"
      ],
      "metadata": {
        "id": "aXK7-zm3PT4s"
      },
      "execution_count": 33,
      "outputs": []
    },
    {
      "cell_type": "markdown",
      "source": [
        "## Missing values\n",
        "\n",
        "Are there any missing values in the pop column? If there are, Let's drop those rows. "
      ],
      "metadata": {
        "id": "tvrv0rQLBxmn"
      }
    },
    {
      "cell_type": "code",
      "source": [
        "# drop rows with missing values in income column"
      ],
      "metadata": {
        "id": "r9RoHUTVB7mY"
      },
      "execution_count": 34,
      "outputs": []
    },
    {
      "cell_type": "markdown",
      "source": [
        "## Merge Income, Population and Life Expectancy dataframes\n",
        "\n",
        "Perform an `inner` merge, joining all three datasets and store it as `gapminder_df`. Note that only the countries common to all three datasets will be merged (which is precisely what we want)\n",
        "\n",
        "Your dataframe should contain these columns {`country`, `year`, `income`, `pop`, `lifExp`}"
      ],
      "metadata": {
        "id": "SRmC-cvbSC5t"
      }
    },
    {
      "cell_type": "code",
      "source": [
        "# merge income_df, pop_df and lifExp_df\n"
      ],
      "metadata": {
        "id": "elxpmHDdQii3"
      },
      "execution_count": 35,
      "outputs": []
    },
    {
      "cell_type": "markdown",
      "source": [
        "## Continents dataset\n",
        "The `continents.csv` file maps each country in our dataset to their respective continents. \n",
        "\n",
        "Load the `continents.csv` from the SupportVectors repository as a dataframe (preferable `continents_df`)"
      ],
      "metadata": {
        "id": "sESdR9Hu3dBw"
      }
    },
    {
      "cell_type": "code",
      "source": [
        "# load the dataset\n"
      ],
      "metadata": {
        "id": "GhKSmTLoTVBN"
      },
      "execution_count": 36,
      "outputs": []
    },
    {
      "cell_type": "markdown",
      "source": [
        "## Merge continents_df\n",
        "\n",
        "Merge the `gapminder_df` with `continents_df` on `country`. Note that `Country` is capitalized in the  `continents_df` which you can drop in the merged dataframe.\n",
        "\n"
      ],
      "metadata": {
        "id": "AFiux1pL4UUW"
      }
    },
    {
      "cell_type": "code",
      "source": [
        "# merge continents_df and gapminder_df\n"
      ],
      "metadata": {
        "id": "obkwTg3NTiWG"
      },
      "execution_count": 37,
      "outputs": []
    },
    {
      "cell_type": "code",
      "source": [
        "# drop 'Country' column\n"
      ],
      "metadata": {
        "id": "0_f21e-STuhG"
      },
      "execution_count": 38,
      "outputs": []
    },
    {
      "cell_type": "markdown",
      "source": [
        "### Convert Datatypes\n",
        "At this point your dataframe should contain these columns {`country`, `year`, `income`, `pop`, `lifExp`, `Continent`}\n",
        "Make sure that `year`, `income`, `pop`, `lifExp` are of numeric datatype before proceeding"
      ],
      "metadata": {
        "id": "BB0_XFnf59i1"
      }
    },
    {
      "cell_type": "code",
      "source": [
        "# check datatypes"
      ],
      "metadata": {
        "id": "_V3TaaUFVljC"
      },
      "execution_count": 39,
      "outputs": []
    },
    {
      "cell_type": "markdown",
      "source": [
        "## Visualization\n",
        "\n",
        "Create a new variable called `data` and assign your dataframe to it...\n",
        "\n",
        "And that's all folks! If your dataset is clean and tidy (with the correct column names), when you run the cell below an interactive chart will be produced! \n",
        "\n",
        "The Chart is produced using the `altair` library which you can install using pip: `pip install altair`. \n",
        "\n",
        "\n"
      ],
      "metadata": {
        "id": "ou1hhrFH5l47"
      }
    },
    {
      "cell_type": "code",
      "source": [
        "data = gapminder_df"
      ],
      "metadata": {
        "id": "GuOcVR5oUB8H",
        "colab": {
          "base_uri": "https://localhost:8080/",
          "height": 170
        },
        "outputId": "7b3020b3-b391-46b0-f721-75b785ce92da"
      },
      "execution_count": 40,
      "outputs": [
        {
          "output_type": "error",
          "ename": "NameError",
          "evalue": "ignored",
          "traceback": [
            "\u001b[0;31m---------------------------------------------------------------------------\u001b[0m",
            "\u001b[0;31mNameError\u001b[0m                                 Traceback (most recent call last)",
            "\u001b[0;32m<ipython-input-40-aa76c3fe95a8>\u001b[0m in \u001b[0;36m<module>\u001b[0;34m()\u001b[0m\n\u001b[0;32m----> 1\u001b[0;31m \u001b[0mdata\u001b[0m \u001b[0;34m=\u001b[0m \u001b[0mgapminder_df\u001b[0m\u001b[0;34m\u001b[0m\u001b[0;34m\u001b[0m\u001b[0m\n\u001b[0m",
            "\u001b[0;31mNameError\u001b[0m: name 'gapminder_df' is not defined"
          ]
        }
      ]
    },
    {
      "cell_type": "code",
      "source": [
        "import altair as alt\n",
        "import numpy as np\n",
        "alt.data_transformers.disable_max_rows()\n",
        "\n",
        "# create years list\n",
        "years_list = np.arange(1800, 2050, 1)\n",
        "\n",
        "slider = alt.binding_range(name='Year:', \n",
        "                           min=1800, \n",
        "                           max=2050, \n",
        "                           step=1\n",
        "                          )\n",
        "selector = alt.selection_single(name=\"SelectorName\", \n",
        "                                fields=['year'],\n",
        "                                bind=slider,\n",
        "                                init={\"year\": 1800}\n",
        "                               )\n",
        "pop_min = data['pop'].min()\n",
        "pop_max = data['pop'].max()\n",
        "\n",
        "\n",
        "chart = (alt\n",
        "    .Chart(data)\n",
        "    .mark_circle(opacity=0.8, \n",
        "                 stroke='white',                                  # add stroke\n",
        "                 strokeWidth=1,                                   # add strokeWidth\n",
        "                )\n",
        "    .encode(\n",
        "            alt.X(\n",
        "                'income:Q',\n",
        "                title=r\"Income(GDP per capita)\",                  \n",
        "                scale=alt.Scale(type='log', \n",
        "                                base=2,\n",
        "                                domain=[100,100000],              # set x-axis limits\n",
        "                               )\n",
        "            ),\n",
        "            alt.Y('lifExp:Q',\n",
        "                  title=r\"Life Expectancy in years\",\n",
        "                  scale=alt.Scale(\n",
        "                                  domain=[10,90],                 # set y-axis limits\n",
        "                                 )\n",
        "                 ),\n",
        "            size=alt.Size('pop:Q', \n",
        "                          scale=alt.Scale(domain=[pop_min,        \n",
        "                                                  pop_max], \n",
        "                                          range=[2,10000],\n",
        "                                         ), \n",
        "                          legend=None,                            \n",
        "                         ),\n",
        "            color= alt.Color('Continent:N'),\n",
        "            tooltip=[alt.Tooltip('country',\n",
        "                                 title=\"Country\"                  \n",
        "                                ), \n",
        "                     alt.Tooltip('pop', \n",
        "                                 format=\",\",                      \n",
        "                                 title=\"Population\",              \n",
        "                                )\n",
        "                    ],\n",
        "    )\n",
        "    .properties(width=700, \n",
        "                height=400,\n",
        "                title=\"Wealth of nations\"                       \n",
        "               )\n",
        "    .add_selection(selector)\n",
        "    .transform_filter(selector)\n",
        ")\n",
        "\n",
        "chart"
      ],
      "metadata": {
        "id": "AFistG5OTz8N"
      },
      "execution_count": null,
      "outputs": []
    },
    {
      "cell_type": "markdown",
      "source": [
        "And that's all folks! \n",
        "\n",
        "Congrats on successfully completing this homework exercise. This was a seemingly daunting task for we used many techniques we learnt in the labs. There are multiple ways to clean the same dataset and we will discuss one such solution to this exercise in an upcoming session."
      ],
      "metadata": {
        "id": "q-JPA2_Q8KMx"
      }
    }
  ]
}